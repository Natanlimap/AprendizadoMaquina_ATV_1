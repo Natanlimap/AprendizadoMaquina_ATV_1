{
  "nbformat": 4,
  "nbformat_minor": 0,
  "metadata": {
    "colab": {
      "name": "Aprendizado_maquina_Atividade1.ipynb",
      "provenance": [],
      "collapsed_sections": [],
      "authorship_tag": "ABX9TyPkoeiaW0FKMUgkj4/qIAiN",
      "include_colab_link": true
    },
    "kernelspec": {
      "name": "python3",
      "display_name": "Python 3"
    },
    "language_info": {
      "name": "python"
    }
  },
  "cells": [
    {
      "cell_type": "markdown",
      "metadata": {
        "id": "view-in-github",
        "colab_type": "text"
      },
      "source": [
        "<a href=\"https://colab.research.google.com/github/Natanlimap/AprendizadoMaquina_ATV_1/blob/main/Aprendizado_maquina_Atividade1.ipynb\" target=\"_parent\"><img src=\"https://colab.research.google.com/assets/colab-badge.svg\" alt=\"Open In Colab\"/></a>"
      ]
    },
    {
      "cell_type": "code",
      "metadata": {
        "colab": {
          "base_uri": "https://localhost:8080/"
        },
        "id": "Wwxk4W-ydP-p",
        "outputId": "d1781135-d0fb-4265-f76f-0d64db26b012"
      },
      "source": [
        "#Importando dataframe\n",
        "import pandas as pd\n",
        "url = 'https://raw.githubusercontent.com/Natanlimap/AprendizadoMaquina_ATV_1/main/Spotify-2000.xls'\n",
        "dataFrame = pd.read_csv(url)\n",
        "print(dataFrame)"
      ],
      "execution_count": null,
      "outputs": [
        {
          "output_type": "stream",
          "text": [
            "      Index                   Title  ... Speechiness Popularity\n",
            "0         1                 Sunrise  ...           3         71\n",
            "1         2             Black Night  ...           7         39\n",
            "2         3          Clint Eastwood  ...          17         69\n",
            "3         4           The Pretender  ...           4         76\n",
            "4         5  Waitin' On A Sunny Day  ...           3         59\n",
            "...     ...                     ...  ...         ...        ...\n",
            "1989   1990        Heartbreak Hotel  ...           7         63\n",
            "1990   1991               Hound Dog  ...           6         69\n",
            "1991   1992         Johnny B. Goode  ...           7         74\n",
            "1992   1993               Take Five  ...           4         65\n",
            "1993   1994          Blueberry Hill  ...           3         56\n",
            "\n",
            "[1994 rows x 15 columns]\n"
          ],
          "name": "stdout"
        }
      ]
    },
    {
      "cell_type": "code",
      "metadata": {
        "id": "MGdH90-cfYuv"
      },
      "source": [
        "#Excluindo a coluna index \n",
        "dataFrame = dataFrame.drop(columns=\"Index\")\n"
      ],
      "execution_count": null,
      "outputs": []
    },
    {
      "cell_type": "code",
      "metadata": {
        "colab": {
          "base_uri": "https://localhost:8080/"
        },
        "id": "WnZ6XYfOeSt3",
        "outputId": "f36034b8-07a3-4ef2-f02d-b07a8966312e"
      },
      "source": [
        "#Imprimindo instâncias e atributos\n",
        "print(dataFrame)"
      ],
      "execution_count": null,
      "outputs": [
        {
          "output_type": "stream",
          "text": [
            "                       Title                    Artist  ... Speechiness  Popularity\n",
            "0                    Sunrise               Norah Jones  ...           3          71\n",
            "1                Black Night               Deep Purple  ...           7          39\n",
            "2             Clint Eastwood                  Gorillaz  ...          17          69\n",
            "3              The Pretender              Foo Fighters  ...           4          76\n",
            "4     Waitin' On A Sunny Day         Bruce Springsteen  ...           3          59\n",
            "...                      ...                       ...  ...         ...         ...\n",
            "1989        Heartbreak Hotel             Elvis Presley  ...           7          63\n",
            "1990               Hound Dog             Elvis Presley  ...           6          69\n",
            "1991         Johnny B. Goode               Chuck Berry  ...           7          74\n",
            "1992               Take Five  The Dave Brubeck Quartet  ...           4          65\n",
            "1993          Blueberry Hill               Fats Domino  ...           3          56\n",
            "\n",
            "[1994 rows x 14 columns]\n"
          ],
          "name": "stdout"
        }
      ]
    },
    {
      "cell_type": "code",
      "metadata": {
        "colab": {
          "base_uri": "https://localhost:8080/"
        },
        "id": "Ev5XvVZ2edoz",
        "outputId": "445f15e0-41d1-44c9-bec5-d3b2768f5831"
      },
      "source": [
        "#Imprimindo as características dos atributos\n",
        "print(\"\\nCaracterísticas: \\n\")\n",
        "print(dataFrame.info())\n",
        "\n",
        "#Imprimindo a média dos atributos\n",
        "print(\"\\nMédia: \\n\")\n",
        "print(dataFrame.mean())\n",
        "\n",
        "#Imprimindo a mediana dos atributos\n",
        "print(\"\\nMediana: \\n\")\n",
        "print(dataFrame.median())"
      ],
      "execution_count": null,
      "outputs": [
        {
          "output_type": "stream",
          "text": [
            "\n",
            "Características: \n",
            "\n",
            "<class 'pandas.core.frame.DataFrame'>\n",
            "RangeIndex: 1994 entries, 0 to 1993\n",
            "Data columns (total 14 columns):\n",
            " #   Column                  Non-Null Count  Dtype \n",
            "---  ------                  --------------  ----- \n",
            " 0   Title                   1994 non-null   object\n",
            " 1   Artist                  1994 non-null   object\n",
            " 2   Top Genre               1994 non-null   object\n",
            " 3   Year                    1994 non-null   int64 \n",
            " 4   Beats Per Minute (BPM)  1994 non-null   int64 \n",
            " 5   Energy                  1994 non-null   int64 \n",
            " 6   Danceability            1994 non-null   int64 \n",
            " 7   Loudness (dB)           1994 non-null   int64 \n",
            " 8   Liveness                1994 non-null   int64 \n",
            " 9   Valence                 1994 non-null   int64 \n",
            " 10  Length (Duration)       1994 non-null   object\n",
            " 11  Acousticness            1994 non-null   int64 \n",
            " 12  Speechiness             1994 non-null   int64 \n",
            " 13  Popularity              1994 non-null   int64 \n",
            "dtypes: int64(10), object(4)\n",
            "memory usage: 218.2+ KB\n",
            "None\n",
            "\n",
            "Média: \n",
            "\n",
            "Year                      1992.992979\n",
            "Beats Per Minute (BPM)     120.215647\n",
            "Energy                      59.679539\n",
            "Danceability                53.238215\n",
            "Loudness (dB)               -9.008526\n",
            "Liveness                    19.012036\n",
            "Valence                     49.408726\n",
            "Acousticness                28.858074\n",
            "Speechiness                  4.994985\n",
            "Popularity                  59.526580\n",
            "dtype: float64\n",
            "\n",
            "Mediana: \n",
            "\n",
            "Year                      1993.0\n",
            "Beats Per Minute (BPM)     119.0\n",
            "Energy                      61.0\n",
            "Danceability                53.0\n",
            "Loudness (dB)               -8.0\n",
            "Liveness                    12.0\n",
            "Valence                     47.0\n",
            "Acousticness                18.0\n",
            "Speechiness                  4.0\n",
            "Popularity                  62.0\n",
            "dtype: float64\n"
          ],
          "name": "stdout"
        }
      ]
    },
    {
      "cell_type": "markdown",
      "metadata": {
        "id": "nK7-6cyGkZ7k"
      },
      "source": [
        "Amostragens"
      ]
    },
    {
      "cell_type": "code",
      "metadata": {
        "colab": {
          "base_uri": "https://localhost:8080/"
        },
        "id": "UEskwjBukcCG",
        "outputId": "fd775222-daf1-4a82-b3e3-3b7ea96172b4"
      },
      "source": [
        "print(\"\\nAmostragem simples de 30% e sem reposição\\n\")\n",
        "print(dataFrame.sample(frac=0.3))"
      ],
      "execution_count": null,
      "outputs": [
        {
          "output_type": "stream",
          "text": [
            "\n",
            "Amostragem simples de 30% e sem reposição\n",
            "\n",
            "                                          Title  ... Popularity\n",
            "1114           Another Brick in the Wall, Pt. 2  ...         77\n",
            "1515                                      Black  ...         75\n",
            "549                                      Royals  ...         79\n",
            "1746                                   Tell Him  ...         47\n",
            "1262                      Papa Can You Hear Me?  ...         46\n",
            "...                                         ...  ...        ...\n",
            "1519                    Smells Like Teen Spirit  ...         74\n",
            "1049                              Stayin' Alive  ...         60\n",
            "1848                Yesterday - Remastered 2009  ...         78\n",
            "203                     Supermassive Black Hole  ...         73\n",
            "1364  Friends Will Be Friends - Remastered 2011  ...         50\n",
            "\n",
            "[598 rows x 14 columns]\n"
          ],
          "name": "stdout"
        }
      ]
    },
    {
      "cell_type": "code",
      "metadata": {
        "colab": {
          "base_uri": "https://localhost:8080/"
        },
        "id": "TrFPhfjlk49A",
        "outputId": "c88f3a1f-a4b7-4720-9b9c-53e35e499f67"
      },
      "source": [
        "print(\"\\nAmostragem simples de 30% e sem reposição\\n\")\n",
        "print(dataFrame.sample(frac=0.3, replace= False))"
      ],
      "execution_count": null,
      "outputs": [
        {
          "output_type": "stream",
          "text": [
            "\n",
            "Amostragem simples de 30% e sem reposição\n",
            "\n",
            "                                  Title  ... Popularity\n",
            "28                              Der Weg  ...         48\n",
            "851                     What's Going On  ...         69\n",
            "1052           Songbird - 2004 Remaster  ...         56\n",
            "422                Just the Way You Are  ...         80\n",
            "130                            Sadeness  ...         58\n",
            "...                                 ...  ...        ...\n",
            "278                              Munich  ...         61\n",
            "1542  (Everything I Do) I Do It For You  ...         64\n",
            "362                     Alles Is Liefde  ...         36\n",
            "405                      Wonderful Days  ...         37\n",
            "1509                    More Than Words  ...         67\n",
            "\n",
            "[598 rows x 14 columns]\n"
          ],
          "name": "stdout"
        }
      ]
    },
    {
      "cell_type": "code",
      "metadata": {
        "colab": {
          "base_uri": "https://localhost:8080/"
        },
        "id": "kzXZ0O_hk-Te",
        "outputId": "5eb85435-a652-46fb-e03d-b593b5ce764e"
      },
      "source": [
        "print(\"\\nAmostragem simples de 30% com reposição\\n\")\n",
        "print(dataFrame.sample(frac=0.3, replace= True))"
      ],
      "execution_count": null,
      "outputs": [
        {
          "output_type": "stream",
          "text": [
            "\n",
            "Amostragem simples de 30% com reposição\n",
            "\n",
            "                                     Title  ... Popularity\n",
            "1725                      Paranoid Android  ...         67\n",
            "1445                       Take This Waltz  ...         40\n",
            "1023                     Fly Like An Eagle  ...         68\n",
            "467                  I Won' T Let You Down  ...         33\n",
            "1761               Narcotic - Long Version  ...         42\n",
            "...                                    ...  ...        ...\n",
            "641                             Be the One  ...         73\n",
            "1844  A Hard Day's Night - Remastered 2009  ...         69\n",
            "1362    Diamonds on the Soles of Her Shoes  ...         63\n",
            "1601                               No Rain  ...         73\n",
            "1619                       Cose della vita  ...         48\n",
            "\n",
            "[598 rows x 14 columns]\n"
          ],
          "name": "stdout"
        }
      ]
    },
    {
      "cell_type": "code",
      "metadata": {
        "colab": {
          "base_uri": "https://localhost:8080/"
        },
        "id": "BMJQx13RlTnI",
        "outputId": "a89a9622-5624-4944-be1e-fc0b32bd0516"
      },
      "source": [
        "print(\"\\nAmostragem simples de 50% e sem reposição\\n\")\n",
        "print(dataFrame.sample(frac=0.5, replace= False))"
      ],
      "execution_count": null,
      "outputs": [
        {
          "output_type": "stream",
          "text": [
            "\n",
            "Amostragem simples de 50% e sem reposição\n",
            "\n",
            "                          Title              Artist  ... Speechiness  Popularity\n",
            "1556                      Stars          Simply Red  ...           3          49\n",
            "1187   Master Blaster (Jammin')       Stevie Wonder  ...           5          61\n",
            "1285         The Boys Of Summer          Don Henley  ...           4          76\n",
            "1961  Albatross - 2018 Remaster       Fleetwood Mac  ...           4          50\n",
            "1691                       Gold              Prince  ...           3          46\n",
            "...                         ...                 ...  ...         ...         ...\n",
            "669                   24K Magic          Bruno Mars  ...           8          78\n",
            "28                      Der Weg  Herbert Grönemeyer  ...           4          48\n",
            "1416        Bad - 2012 Remaster     Michael Jackson  ...           4          68\n",
            "494                     Madness                Muse  ...           7          70\n",
            "346         Unfinished Sympathy      Massive Attack  ...           3          53\n",
            "\n",
            "[997 rows x 14 columns]\n"
          ],
          "name": "stdout"
        }
      ]
    },
    {
      "cell_type": "code",
      "metadata": {
        "colab": {
          "base_uri": "https://localhost:8080/"
        },
        "id": "sfLBTfvglVne",
        "outputId": "9355b0f0-cdb1-44e4-e5a8-14832002b5de"
      },
      "source": [
        "print(\"\\nAmostragem simples de 50% com reposição\\n\")\n",
        "print(dataFrame.sample(frac=0.5, replace= True))"
      ],
      "execution_count": null,
      "outputs": [
        {
          "output_type": "stream",
          "text": [
            "\n",
            "Amostragem simples de 50% com reposição\n",
            "\n",
            "                                        Title  ... Popularity\n",
            "942                   Killer Queen - 2011 Mix  ...         67\n",
            "1799                          Tears in Heaven  ...         61\n",
            "1636                              Basket Case  ...         79\n",
            "56    Sometimes You Can't Make It On Your Own  ...         57\n",
            "432                             Hold On Tight  ...         38\n",
            "...                                       ...  ...        ...\n",
            "1618  Mull Of Kintyre - 1993 Digital Remaster  ...         56\n",
            "1301                          Don't Answer Me  ...         57\n",
            "99                       Motorcycle Emptiness  ...         39\n",
            "550                            tous les mêmes  ...         53\n",
            "261                               In My Place  ...         70\n",
            "\n",
            "[997 rows x 14 columns]\n"
          ],
          "name": "stdout"
        }
      ]
    },
    {
      "cell_type": "code",
      "metadata": {
        "colab": {
          "base_uri": "https://localhost:8080/"
        },
        "id": "XfK4pW3UmTXA",
        "outputId": "61317e75-1271-4a62-c996-1360eb9adea4"
      },
      "source": [
        "print(\"\\nQuantidade de música por generos\\n\")\n",
        "print(dataFrame['Top Genre'].value_counts())\n"
      ],
      "execution_count": null,
      "outputs": [
        {
          "output_type": "stream",
          "text": [
            "\n",
            "Quantidade de música por generos\n",
            "\n",
            "album rock                     413\n",
            "adult standards                123\n",
            "dutch pop                       88\n",
            "alternative rock                86\n",
            "dance pop                       83\n",
            "                              ... \n",
            "electronica                      1\n",
            "classic italian pop              1\n",
            "australian dance                 1\n",
            "classical rock                   1\n",
            "australian alternative rock      1\n",
            "Name: Top Genre, Length: 149, dtype: int64\n"
          ],
          "name": "stdout"
        }
      ]
    },
    {
      "cell_type": "code",
      "metadata": {
        "id": "4-a5uHyQtC28"
      },
      "source": [
        "#Para realizar a amsotra estratificada tentei usar da biblitoeca do sklearn,\n",
        "#mas não consegui, então, a solução foi:\n",
        "#Função que retorna a amostra estratificada\n",
        "def estratificarAmostra(dataFrame, classe, proporcao):\n",
        "    tamanho_amostra = dataFrame[classe].count()*proporcao\n",
        "    classes = dataFrame[classe].unique()\n",
        "\n",
        "    amostras_por_classe = []\n",
        "\n",
        "    for c in classes:\n",
        "      indices_c = dataFrame[classe] == c\n",
        "      df_auxiliar = dataFrame[indices_c]\n",
        "      proporcao_por_c = len(df_auxiliar)/len(dataFrame)\n",
        "      quantidade_por_c = round(proporcao_por_c * tamanho_amostra)\n",
        "      amostra_por_c = df_auxiliar.sample(quantidade_por_c)\n",
        "      amostras_por_classe.append(amostra_por_c)\n",
        "\n",
        "    return pd.concat(amostras_por_classe)\n"
      ],
      "execution_count": null,
      "outputs": []
    },
    {
      "cell_type": "code",
      "metadata": {
        "colab": {
          "base_uri": "https://localhost:8080/"
        },
        "id": "Zcfg-wL8nNSh",
        "outputId": "b1e45850-b13f-4f9d-ffa6-0229e74fdab1"
      },
      "source": [
        "#Amostra estratificada em 50%\n",
        "amostra_estratiticada_em_50 = estratificarAmostra(dataFrame=dataFrame,\n",
        "                                    classe='Top Genre', proporcao=0.5)\n",
        "print(amostra_estratiticada_em_50['Top Genre'].value_counts())"
      ],
      "execution_count": null,
      "outputs": [
        {
          "output_type": "stream",
          "text": [
            "album rock                    206\n",
            "adult standards                62\n",
            "dutch pop                      44\n",
            "alternative rock               43\n",
            "dance pop                      42\n",
            "                             ... \n",
            "latin                           1\n",
            "alternative hip hop             1\n",
            "punk                            1\n",
            "scottish singer-songwriter      1\n",
            "austropop                       1\n",
            "Name: Top Genre, Length: 95, dtype: int64\n"
          ],
          "name": "stdout"
        }
      ]
    },
    {
      "cell_type": "code",
      "metadata": {
        "colab": {
          "base_uri": "https://localhost:8080/"
        },
        "id": "A6G3o5QEuSmk",
        "outputId": "75d0adff-7517-45cd-871b-f97fb869ea91"
      },
      "source": [
        "print(\"\\nAmostragem simples de 70% e sem reposição\\n\")\n",
        "print(dataFrame.sample(frac=0.7, replace= False))"
      ],
      "execution_count": null,
      "outputs": [
        {
          "output_type": "stream",
          "text": [
            "\n",
            "Amostragem simples de 70% e sem reposição\n",
            "\n",
            "                                  Title  ... Popularity\n",
            "1046                  Wonderful Tonight  ...         73\n",
            "973                     I'm Not In Love  ...         70\n",
            "1838  Don't Think Twice, It's All Right  ...         65\n",
            "697                               Amigo  ...         33\n",
            "445                           kom terug  ...         47\n",
            "...                                 ...  ...        ...\n",
            "1967                         Proud Mary  ...         60\n",
            "625                           Moondance  ...         42\n",
            "13                       I'm going home  ...         26\n",
            "547                             Mirrors  ...         77\n",
            "1631                         Hallelujah  ...         73\n",
            "\n",
            "[1396 rows x 14 columns]\n"
          ],
          "name": "stdout"
        }
      ]
    },
    {
      "cell_type": "code",
      "metadata": {
        "colab": {
          "base_uri": "https://localhost:8080/"
        },
        "id": "WBiRcvTxuSfS",
        "outputId": "c25e98d1-7ba6-4f9f-96b5-48019812b4c8"
      },
      "source": [
        "print(\"\\nAmostragem simples de 70% com reposição\\n\")\n",
        "print(dataFrame.sample(frac=0.7, replace= True))"
      ],
      "execution_count": null,
      "outputs": [
        {
          "output_type": "stream",
          "text": [
            "\n",
            "Amostragem simples de 70% com reposição\n",
            "\n",
            "                                          Title  ... Popularity\n",
            "1364  Friends Will Be Friends - Remastered 2011  ...         50\n",
            "1072                         God Save the Queen  ...         51\n",
            "252                                      Mensch  ...         47\n",
            "1213                                    Rosanna  ...         70\n",
            "430                             Back Down South  ...         58\n",
            "...                                         ...  ...        ...\n",
            "1599                         Rhythm Is A Dancer  ...         57\n",
            "386                               One More Time  ...         75\n",
            "445                                   kom terug  ...         47\n",
            "1242                Let's Dance - 2018 Remaster  ...         71\n",
            "1759                      The Whole of the Moon  ...         59\n",
            "\n",
            "[1396 rows x 14 columns]\n"
          ],
          "name": "stdout"
        }
      ]
    },
    {
      "cell_type": "code",
      "metadata": {
        "colab": {
          "base_uri": "https://localhost:8080/"
        },
        "id": "-K4TD2UnpcRM",
        "outputId": "d70ad97d-dfda-45b5-d2a0-1274dbb2eda4"
      },
      "source": [
        "#Amostra estratificada em 70%\n",
        "amostra_estratiticada_em_70 = estratificarAmostra(dataFrame=dataFrame,\n",
        "                                    classe='Top Genre', proporcao=0.7)\n",
        "print(amostra_estratiticada_em_70['Top Genre'].value_counts())"
      ],
      "execution_count": null,
      "outputs": [
        {
          "output_type": "stream",
          "text": [
            "album rock           289\n",
            "adult standards       86\n",
            "dutch pop             62\n",
            "alternative rock      60\n",
            "dance pop             58\n",
            "                    ... \n",
            "operatic pop           1\n",
            "motown                 1\n",
            "hip pop                1\n",
            "latin alternative      1\n",
            "nederpop               1\n",
            "Name: Top Genre, Length: 149, dtype: int64\n"
          ],
          "name": "stdout"
        }
      ]
    }
  ]
}