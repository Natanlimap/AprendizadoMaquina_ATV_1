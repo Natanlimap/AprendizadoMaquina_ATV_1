{
  "nbformat": 4,
  "nbformat_minor": 0,
  "metadata": {
    "colab": {
      "name": "Aprendizado_maquina_atv_3",
      "provenance": [],
      "collapsed_sections": [],
      "authorship_tag": "ABX9TyOajmLTuH3kLHLnWKKsuBgr",
      "include_colab_link": true
    },
    "kernelspec": {
      "name": "python3",
      "display_name": "Python 3"
    },
    "language_info": {
      "name": "python"
    }
  },
  "cells": [
    {
      "cell_type": "markdown",
      "metadata": {
        "id": "view-in-github",
        "colab_type": "text"
      },
      "source": [
        "<a href=\"https://colab.research.google.com/github/Natanlimap/AprendizadoMaquina_ATV_1/blob/main/Aprendizado_maquina_atv_3.ipynb\" target=\"_parent\"><img src=\"https://colab.research.google.com/assets/colab-badge.svg\" alt=\"Open In Colab\"/></a>"
      ]
    },
    {
      "cell_type": "code",
      "metadata": {
        "id": "s69B5E7YjXYB"
      },
      "source": [
        "import pandas as pd\n",
        "url = \"https://raw.githubusercontent.com/Natanlimap/AprendizadoMaquina_ATV_1/main/water_potability.csv\"\n",
        "dataFrame = pd.read_csv(url)\n",
        "dataFrame = dataFrame.drop_duplicates()\n",
        "dataFrame = dataFrame.dropna()\n"
      ],
      "execution_count": 263,
      "outputs": []
    },
    {
      "cell_type": "markdown",
      "metadata": {
        "id": "NorZgp5GnwCH"
      },
      "source": [
        "Criando os subsets"
      ]
    },
    {
      "cell_type": "code",
      "metadata": {
        "id": "8YhV4XDflDIq"
      },
      "source": [
        "dataFrame100 = dataFrame\n",
        "dataFrame30 = dataFrame.sample(frac=0.3)\n",
        "dataFrame50 = dataFrame.sample(frac=0.5)\n",
        "dataFrame70 = dataFrame.sample(frac=0.7)\n"
      ],
      "execution_count": 264,
      "outputs": []
    },
    {
      "cell_type": "markdown",
      "metadata": {
        "id": "1l4IPc-HnuA7"
      },
      "source": [
        "Pegandos os labels"
      ]
    },
    {
      "cell_type": "code",
      "metadata": {
        "id": "dlcn5Y4JlDBU",
        "colab": {
          "base_uri": "https://localhost:8080/",
          "height": 0
        },
        "outputId": "f75649f6-12b9-4f7b-8df6-57b78a95b628"
      },
      "source": [
        "labels = list(dataFrame.columns.values)\n",
        "labels"
      ],
      "execution_count": 265,
      "outputs": [
        {
          "output_type": "execute_result",
          "data": {
            "text/plain": [
              "['ph',\n",
              " 'Hardness',\n",
              " 'Solids',\n",
              " 'Chloramines',\n",
              " 'Sulfate',\n",
              " 'Conductivity',\n",
              " 'Organic_carbon',\n",
              " 'Trihalomethanes',\n",
              " 'Turbidity',\n",
              " 'Potability']"
            ]
          },
          "metadata": {
            "tags": []
          },
          "execution_count": 265
        }
      ]
    },
    {
      "cell_type": "markdown",
      "metadata": {
        "id": "iQ1FYjbduGDP"
      },
      "source": [
        "K-NN"
      ]
    },
    {
      "cell_type": "code",
      "metadata": {
        "id": "k0SW12C_3BrS"
      },
      "source": [
        "# Função para knn\n",
        "def doKnn(n_neighboors, X_train, X_test, y_train):\n",
        "  knn = KNeighborsClassifier(n_neighbors=n_neighboors, metric='euclidean')\n",
        "  knn.fit(X_train, y_train)\n",
        "  y_pred = knn.predict(X_test)\n",
        "  return accuracy_score(y_test, y_pred)"
      ],
      "execution_count": 266,
      "outputs": []
    },
    {
      "cell_type": "code",
      "metadata": {
        "id": "wJ9Yp4W24O9r"
      },
      "source": [
        "from sklearn.model_selection import train_test_split\n",
        "from sklearn.neighbors import KNeighborsClassifier\n",
        "from sklearn.metrics import accuracy_score\n",
        "\n"
      ],
      "execution_count": 289,
      "outputs": []
    },
    {
      "cell_type": "code",
      "metadata": {
        "colab": {
          "base_uri": "https://localhost:8080/",
          "height": 0
        },
        "id": "3b8CbMPLn1dk",
        "outputId": "8f7ede2e-ba1c-4c69-d4d5-bd4c3d0058ee"
      },
      "source": [
        "oneKValues = []\n",
        "twoKValues = []\n",
        "threeKValues = []\n",
        "fourKValues = []\n",
        "fiveKValues = []\n",
        "\n",
        "y = dataFrame100.Potability.values.tolist()\n",
        "X = dataFrame100\n",
        "X_train,X_test,y_train,y_test = train_test_split(X,y,test_size=0.3)\n",
        "\n",
        "oneKValues.append(doKnn(1, X_train, X_test, y_train))\n",
        "twoKValues.append(doKnn(2, X_train, X_test, y_train))\n",
        "threeKValues.append(doKnn(3, X_train, X_test, y_train))\n",
        "fourKValues.append(doKnn(4, X_train, X_test, y_train))\n",
        "fiveKValues.append(doKnn(5, X_train, X_test, y_train))\n",
        "\n",
        "\n",
        "print(\"Accuracy 70/30 1k:\", doKnn(1, X_train, X_test, y_train))\n",
        "print(\"Accuracy 70/30 2k:\", doKnn(2, X_train, X_test, y_train))\n",
        "print(\"Accuracy 70/30 3k:\", doKnn(3, X_train, X_test, y_train))\n",
        "print(\"Accuracy 70/30 4k:\", doKnn(4, X_train, X_test, y_train))\n",
        "print(\"Accuracy 70/30 5k:\", doKnn(5, X_train, X_test, y_train))\n",
        "\n",
        "\n",
        "\n",
        "X_train,X_test,y_train,y_test = train_test_split(X,y,test_size=0.2)\n",
        "\n",
        "\n",
        "oneKValues.append(doKnn(1, X_train, X_test, y_train))\n",
        "twoKValues.append(doKnn(2, X_train, X_test, y_train))\n",
        "threeKValues.append(doKnn(3, X_train, X_test, y_train))\n",
        "fourKValues.append(doKnn(4, X_train, X_test, y_train))\n",
        "fiveKValues.append(doKnn(5, X_train, X_test, y_train))\n",
        "\n",
        "print(\"\\n\\nAccuracy 80/20 1k:\", doKnn(1, X_train, X_test, y_train))\n",
        "print(\"Accuracy 80/20 2k:\", doKnn(2, X_train, X_test, y_train))\n",
        "print(\"Accuracy 80/20 3k:\", doKnn(3, X_train, X_test, y_train))\n",
        "print(\"Accuracy 80/20 4k:\", doKnn(4, X_train, X_test, y_train))\n",
        "print(\"Accuracy 80/20 5k:\", doKnn(5, X_train, X_test, y_train))\n",
        "\n",
        "X_train,X_test,y_train,y_test = train_test_split(X,y,test_size=0.1)\n",
        "\n",
        "\n",
        "oneKValues.append(doKnn(1, X_train, X_test, y_train))\n",
        "twoKValues.append(doKnn(2, X_train, X_test, y_train))\n",
        "threeKValues.append(doKnn(3, X_train, X_test, y_train))\n",
        "fourKValues.append(doKnn(4, X_train, X_test, y_train))\n",
        "fiveKValues.append(doKnn(5, X_train, X_test, y_train))\n",
        "\n",
        "print(\"\\n\\nAccuracy 90/10 1k:\", doKnn(1, X_train, X_test, y_train))\n",
        "print(\"Accuracy 90/10 2k:\", doKnn(2, X_train, X_test, y_train))\n",
        "print(\"Accuracy 90/10 3k:\", doKnn(3, X_train, X_test, y_train))\n",
        "print(\"Accuracy 90/10 4k:\", doKnn(4, X_train, X_test, y_train))\n",
        "print(\"Accuracy 90/10 5k:\", doKnn(5, X_train, X_test, y_train))\n",
        "\n"
      ],
      "execution_count": 291,
      "outputs": [
        {
          "output_type": "stream",
          "text": [
            "Accuracy 70/30 1k: 0.5115894039735099\n",
            "Accuracy 70/30 2k: 0.5281456953642384\n",
            "Accuracy 70/30 3k: 0.5198675496688742\n",
            "Accuracy 70/30 4k: 0.5281456953642384\n",
            "Accuracy 70/30 5k: 0.5231788079470199\n",
            "\n",
            "\n",
            "Accuracy 80/20 1k: 0.49379652605459057\n",
            "Accuracy 80/20 2k: 0.5310173697270472\n",
            "Accuracy 80/20 3k: 0.5384615384615384\n",
            "Accuracy 80/20 4k: 0.56575682382134\n",
            "Accuracy 80/20 5k: 0.5483870967741935\n",
            "\n",
            "\n",
            "Accuracy 90/10 1k: 0.46534653465346537\n",
            "Accuracy 90/10 2k: 0.4405940594059406\n",
            "Accuracy 90/10 3k: 0.4158415841584158\n",
            "Accuracy 90/10 4k: 0.4504950495049505\n",
            "Accuracy 90/10 5k: 0.43564356435643564\n"
          ],
          "name": "stdout"
        }
      ]
    },
    {
      "cell_type": "code",
      "metadata": {
        "colab": {
          "base_uri": "https://localhost:8080/",
          "height": 0
        },
        "id": "p0v2G5T84SJK",
        "outputId": "6acb536d-f64d-4aae-f248-9b154905f948"
      },
      "source": [
        "y = dataFrame70.Potability.values.tolist()\n",
        "X = dataFrame70\n",
        "X_train,X_test,y_train,y_test = train_test_split(X,y,test_size=0.3)\n",
        "print(\"\\n\\nBASE 70\\n\\n\")\n",
        "\n",
        "oneKValues.append(doKnn(1, X_train, X_test, y_train))\n",
        "twoKValues.append(doKnn(2, X_train, X_test, y_train))\n",
        "threeKValues.append(doKnn(3, X_train, X_test, y_train))\n",
        "fourKValues.append(doKnn(4, X_train, X_test, y_train))\n",
        "fiveKValues.append(doKnn(5, X_train, X_test, y_train))\n",
        "\n",
        "print(\"Accuracy 70/30 1k:\", doKnn(1, X_train, X_test, y_train))\n",
        "print(\"Accuracy 70/30 2k:\", doKnn(2, X_train, X_test, y_train))\n",
        "print(\"Accuracy 70/30 3k:\", doKnn(3, X_train, X_test, y_train))\n",
        "print(\"Accuracy 70/30 4k:\", doKnn(4, X_train, X_test, y_train))\n",
        "print(\"Accuracy 70/30 5k:\", doKnn(5, X_train, X_test, y_train))\n",
        "\n",
        "X_train,X_test,y_train,y_test = train_test_split(X,y,test_size=0.2)\n",
        "\n",
        "oneKValues.append(doKnn(1, X_train, X_test, y_train))\n",
        "twoKValues.append(doKnn(2, X_train, X_test, y_train))\n",
        "threeKValues.append(doKnn(3, X_train, X_test, y_train))\n",
        "fourKValues.append(doKnn(4, X_train, X_test, y_train))\n",
        "fiveKValues.append(doKnn(5, X_train, X_test, y_train))\n",
        "\n",
        "print(\"\\n\\nAccuracy 80/20 1k:\", doKnn(1, X_train, X_test, y_train))\n",
        "print(\"Accuracy 80/20 2k:\", doKnn(2, X_train, X_test, y_train))\n",
        "print(\"Accuracy 80/20 3k:\", doKnn(3, X_train, X_test, y_train))\n",
        "print(\"Accuracy 80/20 4k:\", doKnn(4, X_train, X_test, y_train))\n",
        "print(\"Accuracy 80/20 5k:\", doKnn(5, X_train, X_test, y_train))\n",
        "\n",
        "X_train,X_test,y_train,y_test = train_test_split(X,y,test_size=0.1)\n",
        "\n",
        "oneKValues.append(doKnn(1, X_train, X_test, y_train))\n",
        "twoKValues.append(doKnn(2, X_train, X_test, y_train))\n",
        "threeKValues.append(doKnn(3, X_train, X_test, y_train))\n",
        "fourKValues.append(doKnn(4, X_train, X_test, y_train))\n",
        "fiveKValues.append(doKnn(5, X_train, X_test, y_train))\n",
        "\n",
        "print(\"\\n\\nAccuracy 90/10 1k:\", doKnn(1, X_train, X_test, y_train))\n",
        "print(\"Accuracy 90/10 2k:\", doKnn(2, X_train, X_test, y_train))\n",
        "print(\"Accuracy 90/10 3k:\", doKnn(3, X_train, X_test, y_train))\n",
        "print(\"Accuracy 90/10 4k:\", doKnn(4, X_train, X_test, y_train))\n",
        "print(\"Accuracy 90/10 5k:\", doKnn(5, X_train, X_test, y_train))"
      ],
      "execution_count": 292,
      "outputs": [
        {
          "output_type": "stream",
          "text": [
            "\n",
            "\n",
            "BASE 70\n",
            "\n",
            "\n",
            "Accuracy 70/30 1k: 0.5602836879432624\n",
            "Accuracy 70/30 2k: 0.5981087470449172\n",
            "Accuracy 70/30 3k: 0.5673758865248227\n",
            "Accuracy 70/30 4k: 0.5862884160756501\n",
            "Accuracy 70/30 5k: 0.5957446808510638\n",
            "\n",
            "\n",
            "Accuracy 80/20 1k: 0.5177304964539007\n",
            "Accuracy 80/20 2k: 0.5319148936170213\n",
            "Accuracy 80/20 3k: 0.5212765957446809\n",
            "Accuracy 80/20 4k: 0.5638297872340425\n",
            "Accuracy 80/20 5k: 0.5390070921985816\n",
            "\n",
            "\n",
            "Accuracy 90/10 1k: 0.524822695035461\n",
            "Accuracy 90/10 2k: 0.5531914893617021\n",
            "Accuracy 90/10 3k: 0.574468085106383\n",
            "Accuracy 90/10 4k: 0.5460992907801419\n",
            "Accuracy 90/10 5k: 0.5602836879432624\n"
          ],
          "name": "stdout"
        }
      ]
    },
    {
      "cell_type": "code",
      "metadata": {
        "colab": {
          "base_uri": "https://localhost:8080/",
          "height": 0
        },
        "id": "McGgsdmc4j_X",
        "outputId": "b69c3f77-41c5-4790-d94e-70f7b9d4b0c3"
      },
      "source": [
        "y = dataFrame50.Potability.values.tolist()\n",
        "X = dataFrame50\n",
        "X_train,X_test,y_train,y_test = train_test_split(X,y,test_size=0.3)\n",
        "print(\"\\n\\nBASE 50\\n\\n\")\n",
        "\n",
        "oneKValues.append(doKnn(1, X_train, X_test, y_train))\n",
        "twoKValues.append(doKnn(2, X_train, X_test, y_train))\n",
        "threeKValues.append(doKnn(3, X_train, X_test, y_train))\n",
        "fourKValues.append(doKnn(4, X_train, X_test, y_train))\n",
        "fiveKValues.append(doKnn(5, X_train, X_test, y_train))\n",
        "\n",
        "print(\"Accuracy 70/30 1k:\", doKnn(1, X_train, X_test, y_train))\n",
        "print(\"Accuracy 70/30 2k:\", doKnn(2, X_train, X_test, y_train))\n",
        "print(\"Accuracy 70/30 3k:\", doKnn(3, X_train, X_test, y_train))\n",
        "print(\"Accuracy 70/30 4k:\", doKnn(4, X_train, X_test, y_train))\n",
        "print(\"Accuracy 70/30 5k:\", doKnn(5, X_train, X_test, y_train))\n",
        "\n",
        "X_train,X_test,y_train,y_test = train_test_split(X,y,test_size=0.2)\n",
        "\n",
        "oneKValues.append(doKnn(1, X_train, X_test, y_train))\n",
        "twoKValues.append(doKnn(2, X_train, X_test, y_train))\n",
        "threeKValues.append(doKnn(3, X_train, X_test, y_train))\n",
        "fourKValues.append(doKnn(4, X_train, X_test, y_train))\n",
        "fiveKValues.append(doKnn(5, X_train, X_test, y_train))\n",
        "\n",
        "print(\"\\n\\nAccuracy 80/20 1k:\", doKnn(1, X_train, X_test, y_train))\n",
        "print(\"Accuracy 80/20 2k:\", doKnn(2, X_train, X_test, y_train))\n",
        "print(\"Accuracy 80/20 3k:\", doKnn(3, X_train, X_test, y_train))\n",
        "print(\"Accuracy 80/20 4k:\", doKnn(4, X_train, X_test, y_train))\n",
        "print(\"Accuracy 80/20 5k:\", doKnn(5, X_train, X_test, y_train))\n",
        "\n",
        "X_train,X_test,y_train,y_test = train_test_split(X,y,test_size=0.1)\n",
        "\n",
        "oneKValues.append(doKnn(1, X_train, X_test, y_train))\n",
        "twoKValues.append(doKnn(2, X_train, X_test, y_train))\n",
        "threeKValues.append(doKnn(3, X_train, X_test, y_train))\n",
        "fourKValues.append(doKnn(4, X_train, X_test, y_train))\n",
        "fiveKValues.append(doKnn(5, X_train, X_test, y_train))\n",
        "\n",
        "print(\"\\n\\nAccuracy 90/10 1k:\", doKnn(1, X_train, X_test, y_train))\n",
        "print(\"Accuracy 90/10 2k:\", doKnn(2, X_train, X_test, y_train))\n",
        "print(\"Accuracy 90/10 3k:\", doKnn(3, X_train, X_test, y_train))\n",
        "print(\"Accuracy 90/10 4k:\", doKnn(4, X_train, X_test, y_train))\n",
        "print(\"Accuracy 90/10 5k:\", doKnn(5, X_train, X_test, y_train))"
      ],
      "execution_count": 293,
      "outputs": [
        {
          "output_type": "stream",
          "text": [
            "\n",
            "\n",
            "BASE 50\n",
            "\n",
            "\n",
            "Accuracy 70/30 1k: 0.49337748344370863\n",
            "Accuracy 70/30 2k: 0.5496688741721855\n",
            "Accuracy 70/30 3k: 0.5397350993377483\n",
            "Accuracy 70/30 4k: 0.5629139072847682\n",
            "Accuracy 70/30 5k: 0.543046357615894\n",
            "\n",
            "\n",
            "Accuracy 80/20 1k: 0.5742574257425742\n",
            "Accuracy 80/20 2k: 0.594059405940594\n",
            "Accuracy 80/20 3k: 0.5297029702970297\n",
            "Accuracy 80/20 4k: 0.5495049504950495\n",
            "Accuracy 80/20 5k: 0.5396039603960396\n",
            "\n",
            "\n",
            "Accuracy 90/10 1k: 0.5346534653465347\n",
            "Accuracy 90/10 2k: 0.5445544554455446\n",
            "Accuracy 90/10 3k: 0.5346534653465347\n",
            "Accuracy 90/10 4k: 0.5841584158415841\n",
            "Accuracy 90/10 5k: 0.5841584158415841\n"
          ],
          "name": "stdout"
        }
      ]
    },
    {
      "cell_type": "code",
      "metadata": {
        "colab": {
          "base_uri": "https://localhost:8080/",
          "height": 0
        },
        "id": "lERVQkzy4rjm",
        "outputId": "ae7c1ede-f34f-4b38-eeca-70ef9c2c41df"
      },
      "source": [
        "y = dataFrame30.Potability.values.tolist()\n",
        "X = dataFrame30\n",
        "X_train,X_test,y_train,y_test = train_test_split(X,y,test_size=0.3)\n",
        "print(\"\\n\\nBASE 30\\n\\n\")\n",
        "\n",
        "oneKValues.append(doKnn(1, X_train, X_test, y_train))\n",
        "twoKValues.append(doKnn(2, X_train, X_test, y_train))\n",
        "threeKValues.append(doKnn(3, X_train, X_test, y_train))\n",
        "fourKValues.append(doKnn(4, X_train, X_test, y_train))\n",
        "fiveKValues.append(doKnn(5, X_train, X_test, y_train))\n",
        "\n",
        "print(\"Accuracy 70/30 1k:\", doKnn(1, X_train, X_test, y_train))\n",
        "print(\"Accuracy 70/30 2k:\", doKnn(2, X_train, X_test, y_train))\n",
        "print(\"Accuracy 70/30 3k:\", doKnn(3, X_train, X_test, y_train))\n",
        "print(\"Accuracy 70/30 4k:\", doKnn(4, X_train, X_test, y_train))\n",
        "print(\"Accuracy 70/30 5k:\", doKnn(5, X_train, X_test, y_train))\n",
        "\n",
        "X_train,X_test,y_train,y_test = train_test_split(X,y,test_size=0.2)\n",
        "\n",
        "oneKValues.append(doKnn(1, X_train, X_test, y_train))\n",
        "twoKValues.append(doKnn(2, X_train, X_test, y_train))\n",
        "threeKValues.append(doKnn(3, X_train, X_test, y_train))\n",
        "fourKValues.append(doKnn(4, X_train, X_test, y_train))\n",
        "fiveKValues.append(doKnn(5, X_train, X_test, y_train))\n",
        "\n",
        "print(\"\\n\\nAccuracy 80/20 1k:\", doKnn(1, X_train, X_test, y_train))\n",
        "print(\"Accuracy 80/20 2k:\", doKnn(2, X_train, X_test, y_train))\n",
        "print(\"Accuracy 80/20 3k:\", doKnn(3, X_train, X_test, y_train))\n",
        "print(\"Accuracy 80/20 4k:\", doKnn(4, X_train, X_test, y_train))\n",
        "print(\"Accuracy 80/20 5k:\", doKnn(5, X_train, X_test, y_train))\n",
        "\n",
        "X_train,X_test,y_train,y_test = train_test_split(X,y,test_size=0.1)\n",
        "\n",
        "oneKValues.append(doKnn(1, X_train, X_test, y_train))\n",
        "twoKValues.append(doKnn(2, X_train, X_test, y_train))\n",
        "threeKValues.append(doKnn(3, X_train, X_test, y_train))\n",
        "fourKValues.append(doKnn(4, X_train, X_test, y_train))\n",
        "fiveKValues.append(doKnn(5, X_train, X_test, y_train))\n",
        "\n",
        "print(\"\\n\\nAccuracy 90/10 1k:\", doKnn(1, X_train, X_test, y_train))\n",
        "print(\"Accuracy 90/10 2k:\", doKnn(2, X_train, X_test, y_train))\n",
        "print(\"Accuracy 90/10 3k:\", doKnn(3, X_train, X_test, y_train))\n",
        "print(\"Accuracy 90/10 4k:\", doKnn(4, X_train, X_test, y_train))\n",
        "print(\"Accuracy 90/10 5k:\", doKnn(5, X_train, X_test, y_train))"
      ],
      "execution_count": 294,
      "outputs": [
        {
          "output_type": "stream",
          "text": [
            "\n",
            "\n",
            "BASE 30\n",
            "\n",
            "\n",
            "Accuracy 70/30 1k: 0.5027624309392266\n",
            "Accuracy 70/30 2k: 0.5524861878453039\n",
            "Accuracy 70/30 3k: 0.5027624309392266\n",
            "Accuracy 70/30 4k: 0.5303867403314917\n",
            "Accuracy 70/30 5k: 0.5193370165745856\n",
            "\n",
            "\n",
            "Accuracy 80/20 1k: 0.5785123966942148\n",
            "Accuracy 80/20 2k: 0.5950413223140496\n",
            "Accuracy 80/20 3k: 0.5289256198347108\n",
            "Accuracy 80/20 4k: 0.5785123966942148\n",
            "Accuracy 80/20 5k: 0.5619834710743802\n",
            "\n",
            "\n",
            "Accuracy 90/10 1k: 0.4918032786885246\n",
            "Accuracy 90/10 2k: 0.45901639344262296\n",
            "Accuracy 90/10 3k: 0.5409836065573771\n",
            "Accuracy 90/10 4k: 0.5081967213114754\n",
            "Accuracy 90/10 5k: 0.5409836065573771\n"
          ],
          "name": "stdout"
        }
      ]
    },
    {
      "cell_type": "code",
      "metadata": {
        "colab": {
          "base_uri": "https://localhost:8080/",
          "height": 0
        },
        "id": "FZTcIe01_DYr",
        "outputId": "415b2a9a-2481-49f4-cc1f-bbb90442538b"
      },
      "source": [
        "import statistics\n",
        "print(\"1k média: \", statistics.mean(oneKValues))\n",
        "print(\"2k média: \", statistics.mean(twoKValues))\n",
        "print(\"3k média: \", statistics.mean(threeKValues))\n",
        "print(\"4k média: \", statistics.mean(fourKValues))\n",
        "print(\"5k média: \", statistics.mean(fiveKValues))\n",
        "\n",
        "print(\"1k desvio padrão: \", statistics.pstdev(oneKValues))\n",
        "print(\"2k desvio padrão: \", statistics.pstdev(twoKValues))\n",
        "print(\"3k desvio padrão: \", statistics.pstdev(threeKValues))\n",
        "print(\"4k desvio padrão: \", statistics.pstdev(fourKValues))\n",
        "print(\"5k desvio padrão: \", statistics.pstdev(fiveKValues))\n"
      ],
      "execution_count": 306,
      "outputs": [
        {
          "output_type": "stream",
          "text": [
            "1k média:  0.5207446520807478\n",
            "2k média:  0.5398165744734306\n",
            "3k média:  0.5261712026647786\n",
            "4k média:  0.5461906828949122\n",
            "5k média:  0.5409464798442014\n",
            "1k desvio padrão:  0.0338773917280195\n",
            "2k desvio padrão:  0.046991848968816356\n",
            "3k desvio padrão:  0.03814571982305055\n",
            "4k desvio padrão:  0.03680498438321472\n",
            "5k desvio padrão:  0.038322422906659305\n"
          ],
          "name": "stdout"
        }
      ]
    },
    {
      "cell_type": "markdown",
      "metadata": {
        "id": "CYmmr-CabcEb"
      },
      "source": [
        "Árvore de decisão"
      ]
    },
    {
      "cell_type": "code",
      "metadata": {
        "id": "f1jRJBL3fVVj"
      },
      "source": [
        "from sklearn.tree import DecisionTreeClassifier"
      ],
      "execution_count": 334,
      "outputs": []
    },
    {
      "cell_type": "code",
      "metadata": {
        "id": "Mj02yJh7cQBs"
      },
      "source": [
        "# Função para DT\n",
        "def doDT(X_train, X_test, y_train):\n",
        "  clf = DecisionTreeClassifier()\n",
        "  clf = clf.fit(X_train,y_train)\n",
        "  y_pred = clf.predict(X_test)\n",
        "  return accuracy_score(y_test, y_pred)"
      ],
      "execution_count": 346,
      "outputs": []
    },
    {
      "cell_type": "code",
      "metadata": {
        "colab": {
          "base_uri": "https://localhost:8080/"
        },
        "id": "SyJHux29beFc",
        "outputId": "8c1477a6-e237-460f-b43e-f529e0f65e24"
      },
      "source": [
        "oneKValues = []\n",
        "twoKValues = []\n",
        "threeKValues = []\n",
        "fourKValues = []\n",
        "fiveKValues = []\n",
        "\n",
        "y = dataFrame100.Potability.values.tolist()\n",
        "X = dataFrame100\n",
        "X_train,X_test,y_train,y_test = train_test_split(X,y,test_size=0.3)\n",
        "\n",
        "oneKValues.append(doDT(X_train, X_test, y_train))\n",
        "twoKValues.append(doDT(X_train, X_test, y_train))\n",
        "threeKValues.append(doDT(X_train, X_test, y_train))\n",
        "fourKValues.append(doDT(X_train, X_test, y_train))\n",
        "fiveKValues.append(doDT(X_train, X_test, y_train))\n",
        "\n",
        "\n",
        "print(\"Accuracy 70/30 1k:\", doDT(X_train, X_test, y_train))\n",
        "print(\"Accuracy 70/30 2k:\", doDT(X_train, X_test, y_train))\n",
        "print(\"Accuracy 70/30 3k:\", doDT(X_train, X_test, y_train))\n",
        "print(\"Accuracy 70/30 4k:\", doDT(X_train, X_test, y_train))\n",
        "print(\"Accuracy 70/30 5k:\", doDT(X_train, X_test, y_train))\n",
        "\n",
        "\n",
        "\n",
        "X_train,X_test,y_train,y_test = train_test_split(X,y,test_size=0.2)\n",
        "\n",
        "\n",
        "oneKValues.append(doDT(X_train, X_test, y_train))\n",
        "twoKValues.append(doDT(X_train, X_test, y_train))\n",
        "threeKValues.append(doDT(X_train, X_test, y_train))\n",
        "fourKValues.append(doDT(X_train, X_test, y_train))\n",
        "fiveKValues.append(doDT(X_train, X_test, y_train))\n",
        "\n",
        "print(\"\\n\\nAccuracy 80/20 1k:\", doDT(X_train, X_test, y_train))\n",
        "print(\"Accuracy 80/20 2k:\", doDT(X_train, X_test, y_train))\n",
        "print(\"Accuracy 80/20 3k:\", doDT(X_train, X_test, y_train))\n",
        "print(\"Accuracy 80/20 4k:\", doDT(X_train, X_test, y_train))\n",
        "print(\"Accuracy 80/20 5k:\", doDT(X_train, X_test, y_train))\n",
        "\n",
        "X_train,X_test,y_train,y_test = train_test_split(X,y,test_size=0.1)\n",
        "\n",
        "\n",
        "oneKValues.append(doDT(X_train, X_test, y_train))\n",
        "twoKValues.append(doDT(X_train, X_test, y_train))\n",
        "threeKValues.append(doDT(X_train, X_test, y_train))\n",
        "fourKValues.append(doDT(X_train, X_test, y_train))\n",
        "fiveKValues.append(doDT(X_train, X_test, y_train))\n",
        "\n",
        "print(\"\\n\\nAccuracy 90/10 1k:\", doDT(X_train, X_test, y_train))\n",
        "print(\"Accuracy 90/10 2k:\", doDT(X_train, X_test, y_train))\n",
        "print(\"Accuracy 90/10 3k:\", doDT(X_train, X_test, y_train))\n",
        "print(\"Accuracy 90/10 4k:\", doDT(X_train, X_test, y_train))\n",
        "print(\"Accuracy 90/10 5k:\", doDT(X_train, X_test, y_train))\n"
      ],
      "execution_count": 357,
      "outputs": [
        {
          "output_type": "stream",
          "text": [
            "Accuracy 70/30 1k: 1.0\n",
            "Accuracy 70/30 2k: 1.0\n",
            "Accuracy 70/30 3k: 1.0\n",
            "Accuracy 70/30 4k: 1.0\n",
            "Accuracy 70/30 5k: 1.0\n",
            "\n",
            "\n",
            "Accuracy 80/20 1k: 1.0\n",
            "Accuracy 80/20 2k: 1.0\n",
            "Accuracy 80/20 3k: 1.0\n",
            "Accuracy 80/20 4k: 1.0\n",
            "Accuracy 80/20 5k: 1.0\n",
            "\n",
            "\n",
            "Accuracy 90/10 1k: 1.0\n",
            "Accuracy 90/10 2k: 1.0\n",
            "Accuracy 90/10 3k: 1.0\n",
            "Accuracy 90/10 4k: 1.0\n",
            "Accuracy 90/10 5k: 1.0\n"
          ],
          "name": "stdout"
        }
      ]
    },
    {
      "cell_type": "code",
      "metadata": {
        "colab": {
          "base_uri": "https://localhost:8080/"
        },
        "id": "4bxzeRxTg3VV",
        "outputId": "ed5fc5b5-e309-4fc5-8259-0865c159596f"
      },
      "source": [
        "y = dataFrame70.Potability.values.tolist()\n",
        "X = dataFrame70\n",
        "X_train,X_test,y_train,y_test = train_test_split(X,y,test_size=0.3)\n",
        "print(\"\\n\\nBASE 70\\n\\n\")\n",
        "\n",
        "oneKValues.append(doDT(X_train, X_test, y_train))\n",
        "twoKValues.append(doDT(X_train, X_test, y_train))\n",
        "threeKValues.append(doDT(X_train, X_test, y_train))\n",
        "fourKValues.append(doDT(X_train, X_test, y_train))\n",
        "fiveKValues.append(doDT(X_train, X_test, y_train))\n",
        "\n",
        "print(\"Accuracy 70/30 1k:\", doDT(X_train, X_test, y_train))\n",
        "print(\"Accuracy 70/30 2k:\", doDT(X_train, X_test, y_train))\n",
        "print(\"Accuracy 70/30 3k:\", doDT(X_train, X_test, y_train))\n",
        "print(\"Accuracy 70/30 4k:\", doDT(X_train, X_test, y_train))\n",
        "print(\"Accuracy 70/30 5k:\", doDT(X_train, X_test, y_train))\n",
        "\n",
        "X_train,X_test,y_train,y_test = train_test_split(X,y,test_size=0.2)\n",
        "\n",
        "oneKValues.append(doDT(X_train, X_test, y_train))\n",
        "twoKValues.append(doDT(X_train, X_test, y_train))\n",
        "threeKValues.append(doDT(X_train, X_test, y_train))\n",
        "fourKValues.append(doDT(X_train, X_test, y_train))\n",
        "fiveKValues.append(doDT(X_train, X_test, y_train))\n",
        "\n",
        "print(\"\\n\\nAccuracy 80/20 1k:\", doDT(X_train, X_test, y_train))\n",
        "print(\"Accuracy 80/20 2k:\", doDT(X_train, X_test, y_train))\n",
        "print(\"Accuracy 80/20 3k:\", doDT(X_train, X_test, y_train))\n",
        "print(\"Accuracy 80/20 4k:\", doDT(X_train, X_test, y_train))\n",
        "print(\"Accuracy 80/20 5k:\", doDT(X_train, X_test, y_train))\n",
        "\n",
        "X_train,X_test,y_train,y_test = train_test_split(X,y,test_size=0.1)\n",
        "\n",
        "oneKValues.append(doDT(X_train, X_test, y_train))\n",
        "twoKValues.append(doDT(X_train, X_test, y_train))\n",
        "threeKValues.append(doDT(X_train, X_test, y_train))\n",
        "fourKValues.append(doDT(X_train, X_test, y_train))\n",
        "fiveKValues.append(doDT(X_train, X_test, y_train))\n",
        "\n",
        "print(\"\\n\\nAccuracy 90/10 1k:\", doDT(X_train, X_test, y_train))\n",
        "print(\"Accuracy 90/10 2k:\", doDT(X_train, X_test, y_train))\n",
        "print(\"Accuracy 90/10 3k:\", doDT(X_train, X_test, y_train))\n",
        "print(\"Accuracy 90/10 4k:\", doDT(X_train, X_test, y_train))\n",
        "print(\"Accuracy 90/10 5k:\", doDT(X_train, X_test, y_train))"
      ],
      "execution_count": 358,
      "outputs": [
        {
          "output_type": "stream",
          "text": [
            "\n",
            "\n",
            "BASE 70\n",
            "\n",
            "\n",
            "Accuracy 70/30 1k: 1.0\n",
            "Accuracy 70/30 2k: 1.0\n",
            "Accuracy 70/30 3k: 1.0\n",
            "Accuracy 70/30 4k: 1.0\n",
            "Accuracy 70/30 5k: 1.0\n",
            "\n",
            "\n",
            "Accuracy 80/20 1k: 1.0\n",
            "Accuracy 80/20 2k: 1.0\n",
            "Accuracy 80/20 3k: 1.0\n",
            "Accuracy 80/20 4k: 1.0\n",
            "Accuracy 80/20 5k: 1.0\n",
            "\n",
            "\n",
            "Accuracy 90/10 1k: 1.0\n",
            "Accuracy 90/10 2k: 1.0\n",
            "Accuracy 90/10 3k: 1.0\n",
            "Accuracy 90/10 4k: 1.0\n",
            "Accuracy 90/10 5k: 1.0\n"
          ],
          "name": "stdout"
        }
      ]
    },
    {
      "cell_type": "code",
      "metadata": {
        "colab": {
          "base_uri": "https://localhost:8080/"
        },
        "id": "-7vYrRqvhFnB",
        "outputId": "2581f4ab-d626-4197-d6a0-d2ee3af97c85"
      },
      "source": [
        "y = dataFrame50.Potability.values.tolist()\n",
        "X = dataFrame50\n",
        "X_train,X_test,y_train,y_test = train_test_split(X,y,test_size=0.3)\n",
        "print(\"\\n\\nBASE 50\\n\\n\")\n",
        "\n",
        "oneKValues.append(doDT(X_train, X_test, y_train))\n",
        "twoKValues.append(doDT(X_train, X_test, y_train))\n",
        "threeKValues.append(doDT(X_train, X_test, y_train))\n",
        "fourKValues.append(doDT(X_train, X_test, y_train))\n",
        "fiveKValues.append(doDT(X_train, X_test, y_train))\n",
        "\n",
        "print(\"Accuracy 70/30 1k:\", doDT(X_train, X_test, y_train))\n",
        "print(\"Accuracy 70/30 2k:\", doDT(X_train, X_test, y_train))\n",
        "print(\"Accuracy 70/30 3k:\", doDT(X_train, X_test, y_train))\n",
        "print(\"Accuracy 70/30 4k:\", doDT(X_train, X_test, y_train))\n",
        "print(\"Accuracy 70/30 5k:\", doDT(X_train, X_test, y_train))\n",
        "\n",
        "X_train,X_test,y_train,y_test = train_test_split(X,y,test_size=0.2)\n",
        "\n",
        "oneKValues.append(doDT(X_train, X_test, y_train))\n",
        "twoKValues.append(doDT(X_train, X_test, y_train))\n",
        "threeKValues.append(doDT(X_train, X_test, y_train))\n",
        "fourKValues.append(doDT(X_train, X_test, y_train))\n",
        "fiveKValues.append(doDT(X_train, X_test, y_train))\n",
        "\n",
        "print(\"\\n\\nAccuracy 80/20 1k:\", doDT(X_train, X_test, y_train))\n",
        "print(\"Accuracy 80/20 2k:\", doDT(X_train, X_test, y_train))\n",
        "print(\"Accuracy 80/20 3k:\", doDT(X_train, X_test, y_train))\n",
        "print(\"Accuracy 80/20 4k:\", doDT(X_train, X_test, y_train))\n",
        "print(\"Accuracy 80/20 5k:\", doDT(X_train, X_test, y_train))\n",
        "\n",
        "X_train,X_test,y_train,y_test = train_test_split(X,y,test_size=0.1)\n",
        "\n",
        "oneKValues.append(doDT(X_train, X_test, y_train))\n",
        "twoKValues.append(doDT(X_train, X_test, y_train))\n",
        "threeKValues.append(doDT(X_train, X_test, y_train))\n",
        "fourKValues.append(doDT(X_train, X_test, y_train))\n",
        "fiveKValues.append(doDT(X_train, X_test, y_train))\n",
        "\n",
        "print(\"\\n\\nAccuracy 90/10 1k:\", doDT(X_train, X_test, y_train))\n",
        "print(\"Accuracy 90/10 2k:\", doDT(X_train, X_test, y_train))\n",
        "print(\"Accuracy 90/10 3k:\", doDT(X_train, X_test, y_train))\n",
        "print(\"Accuracy 90/10 4k:\", doDT(X_train, X_test, y_train))\n",
        "print(\"Accuracy 90/10 5k:\", doDT(X_train, X_test, y_train))"
      ],
      "execution_count": 359,
      "outputs": [
        {
          "output_type": "stream",
          "text": [
            "\n",
            "\n",
            "BASE 50\n",
            "\n",
            "\n",
            "Accuracy 70/30 1k: 1.0\n",
            "Accuracy 70/30 2k: 1.0\n",
            "Accuracy 70/30 3k: 1.0\n",
            "Accuracy 70/30 4k: 1.0\n",
            "Accuracy 70/30 5k: 1.0\n",
            "\n",
            "\n",
            "Accuracy 80/20 1k: 1.0\n",
            "Accuracy 80/20 2k: 1.0\n",
            "Accuracy 80/20 3k: 1.0\n",
            "Accuracy 80/20 4k: 1.0\n",
            "Accuracy 80/20 5k: 1.0\n",
            "\n",
            "\n",
            "Accuracy 90/10 1k: 1.0\n",
            "Accuracy 90/10 2k: 1.0\n",
            "Accuracy 90/10 3k: 1.0\n",
            "Accuracy 90/10 4k: 1.0\n",
            "Accuracy 90/10 5k: 1.0\n"
          ],
          "name": "stdout"
        }
      ]
    },
    {
      "cell_type": "code",
      "metadata": {
        "colab": {
          "base_uri": "https://localhost:8080/"
        },
        "id": "TXueaRUthUmR",
        "outputId": "23837d87-5b35-409e-f3f6-bcfdf640ab1c"
      },
      "source": [
        "y = dataFrame30.Potability.values.tolist()\n",
        "X = dataFrame30\n",
        "X_train,X_test,y_train,y_test = train_test_split(X,y,test_size=0.3)\n",
        "print(\"\\n\\nBASE 30\\n\\n\")\n",
        "\n",
        "oneKValues.append(doDT(X_train, X_test, y_train))\n",
        "twoKValues.append(doDT(X_train, X_test, y_train))\n",
        "threeKValues.append(doDT(X_train, X_test, y_train))\n",
        "fourKValues.append(doDT(X_train, X_test, y_train))\n",
        "fiveKValues.append(doDT(X_train, X_test, y_train))\n",
        "\n",
        "print(\"Accuracy 70/30 1k:\", doDT(X_train, X_test, y_train))\n",
        "print(\"Accuracy 70/30 2k:\", doDT(X_train, X_test, y_train))\n",
        "print(\"Accuracy 70/30 3k:\", doDT(X_train, X_test, y_train))\n",
        "print(\"Accuracy 70/30 4k:\", doDT(X_train, X_test, y_train))\n",
        "print(\"Accuracy 70/30 5k:\", doDT(X_train, X_test, y_train))\n",
        "\n",
        "X_train,X_test,y_train,y_test = train_test_split(X,y,test_size=0.2)\n",
        "\n",
        "oneKValues.append(doDT(X_train, X_test, y_train))\n",
        "twoKValues.append(doDT(X_train, X_test, y_train))\n",
        "threeKValues.append(doDT(X_train, X_test, y_train))\n",
        "fourKValues.append(doDT(X_train, X_test, y_train))\n",
        "fiveKValues.append(doDT(X_train, X_test, y_train))\n",
        "\n",
        "print(\"\\n\\nAccuracy 80/20 1k:\", doDT(X_train, X_test, y_train))\n",
        "print(\"Accuracy 80/20 2k:\", doDT(X_train, X_test, y_train))\n",
        "print(\"Accuracy 80/20 3k:\", doDT(X_train, X_test, y_train))\n",
        "print(\"Accuracy 80/20 4k:\", doDT(X_train, X_test, y_train))\n",
        "print(\"Accuracy 80/20 5k:\", doDT(X_train, X_test, y_train))\n",
        "\n",
        "X_train,X_test,y_train,y_test = train_test_split(X,y,test_size=0.1)\n",
        "\n",
        "oneKValues.append(doDT(X_train, X_test, y_train))\n",
        "twoKValues.append(doDT(X_train, X_test, y_train))\n",
        "threeKValues.append(doDT(X_train, X_test, y_train))\n",
        "fourKValues.append(doDT(X_train, X_test, y_train))\n",
        "fiveKValues.append(doDT(X_train, X_test, y_train))\n",
        "\n",
        "print(\"\\n\\nAccuracy 90/10 1k:\", doDT(X_train, X_test, y_train))\n",
        "print(\"Accuracy 90/10 2k:\", doDT(X_train, X_test, y_train))\n",
        "print(\"Accuracy 90/10 3k:\", doDT(X_train, X_test, y_train))\n",
        "print(\"Accuracy 90/10 4k:\", doDT(X_train, X_test, y_train))\n",
        "print(\"Accuracy 90/10 5k:\", doDT(X_train, X_test, y_train))"
      ],
      "execution_count": 360,
      "outputs": [
        {
          "output_type": "stream",
          "text": [
            "\n",
            "\n",
            "BASE 30\n",
            "\n",
            "\n",
            "Accuracy 70/30 1k: 1.0\n",
            "Accuracy 70/30 2k: 1.0\n",
            "Accuracy 70/30 3k: 1.0\n",
            "Accuracy 70/30 4k: 1.0\n",
            "Accuracy 70/30 5k: 1.0\n",
            "\n",
            "\n",
            "Accuracy 80/20 1k: 1.0\n",
            "Accuracy 80/20 2k: 1.0\n",
            "Accuracy 80/20 3k: 1.0\n",
            "Accuracy 80/20 4k: 1.0\n",
            "Accuracy 80/20 5k: 1.0\n",
            "\n",
            "\n",
            "Accuracy 90/10 1k: 1.0\n",
            "Accuracy 90/10 2k: 1.0\n",
            "Accuracy 90/10 3k: 1.0\n",
            "Accuracy 90/10 4k: 1.0\n",
            "Accuracy 90/10 5k: 1.0\n"
          ],
          "name": "stdout"
        }
      ]
    },
    {
      "cell_type": "code",
      "metadata": {
        "colab": {
          "base_uri": "https://localhost:8080/"
        },
        "id": "G9eMLH-eiEfr",
        "outputId": "0c1d9e2b-a61b-4225-8f62-38bc16fe577c"
      },
      "source": [
        "print(\"1k média: \", statistics.mean(oneKValues))\n",
        "print(\"2k média: \", statistics.mean(twoKValues))\n",
        "print(\"3k média: \", statistics.mean(threeKValues))\n",
        "print(\"4k média: \", statistics.mean(fourKValues))\n",
        "print(\"5k média: \", statistics.mean(fiveKValues))\n",
        "\n",
        "print(\"1k desvio padrão: \", statistics.pstdev(oneKValues))\n",
        "print(\"2k desvio padrão: \", statistics.pstdev(twoKValues))\n",
        "print(\"3k desvio padrão: \", statistics.pstdev(threeKValues))\n",
        "print(\"4k desvio padrão: \", statistics.pstdev(fourKValues))\n",
        "print(\"5k desvio padrão: \", statistics.pstdev(fiveKValues))"
      ],
      "execution_count": 361,
      "outputs": [
        {
          "output_type": "stream",
          "text": [
            "1k média:  1.0\n",
            "2k média:  1.0\n",
            "3k média:  1.0\n",
            "4k média:  1.0\n",
            "5k média:  1.0\n",
            "1k desvio padrão:  0.0\n",
            "2k desvio padrão:  0.0\n",
            "3k desvio padrão:  0.0\n",
            "4k desvio padrão:  0.0\n",
            "5k desvio padrão:  0.0\n"
          ],
          "name": "stdout"
        }
      ]
    }
  ]
}